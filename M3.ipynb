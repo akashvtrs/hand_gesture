{
 "cells": [
  {
   "cell_type": "markdown",
   "id": "50194c5f",
   "metadata": {},
   "source": [
    "# LENET"
   ]
  },
  {
   "cell_type": "code",
   "execution_count": 1,
   "id": "ea393cca",
   "metadata": {},
   "outputs": [],
   "source": [
    "import os\n",
    "import glob\n",
    "from PIL import Image\n",
    "import matplotlib.pyplot as plt\n",
    "from tensorflow.keras.preprocessing.image import ImageDataGenerator\n",
    "from tensorflow.keras.models import Sequential\n",
    "from tensorflow.keras.layers import Convolution2D\n",
    "from tensorflow.keras.layers import MaxPooling2D\n",
    "from tensorflow.keras.layers import Flatten\n",
    "from tensorflow.keras.layers import Dense, Dropout\n",
    "from tensorflow.keras.callbacks import ModelCheckpoint"
   ]
  },
  {
   "cell_type": "code",
   "execution_count": 2,
   "id": "55b20603",
   "metadata": {},
   "outputs": [],
   "source": [
    "import warnings\n",
    "warnings.filterwarnings('ignore')"
   ]
  },
  {
   "cell_type": "code",
   "execution_count": 3,
   "id": "b9d727b6",
   "metadata": {},
   "outputs": [],
   "source": [
    "Classifier=Sequential()"
   ]
  },
  {
   "cell_type": "code",
   "execution_count": 4,
   "id": "370ff490",
   "metadata": {},
   "outputs": [
    {
     "name": "stdout",
     "output_type": "stream",
     "text": [
      "Model: \"sequential\"\n",
      "_________________________________________________________________\n",
      " Layer (type)                Output Shape              Param #   \n",
      "=================================================================\n",
      " conv2d (Conv2D)             (None, 100, 100, 256)     7168      \n",
      "                                                                 \n",
      " max_pooling2d (MaxPooling2D  (None, 50, 50, 256)      0         \n",
      " )                                                               \n",
      "                                                                 \n",
      " conv2d_1 (Conv2D)           (None, 16, 16, 128)       295040    \n",
      "                                                                 \n",
      " max_pooling2d_1 (MaxPooling  (None, 8, 8, 128)        0         \n",
      " 2D)                                                             \n",
      "                                                                 \n",
      " flatten (Flatten)           (None, 8192)              0         \n",
      "                                                                 \n",
      " dense (Dense)               (None, 256)               2097408   \n",
      "                                                                 \n",
      " dense_1 (Dense)             (None, 6)                 1542      \n",
      "                                                                 \n",
      "=================================================================\n",
      "Total params: 2,401,158\n",
      "Trainable params: 2,401,158\n",
      "Non-trainable params: 0\n",
      "_________________________________________________________________\n"
     ]
    }
   ],
   "source": [
    "Classifier.add(Convolution2D(256,3,3,input_shape=(300,300,3),activation='relu'))\n",
    "Classifier.add(MaxPooling2D(pool_size=(2,2)))\n",
    "Classifier.add(Convolution2D(128,3,3,activation='relu'))\n",
    "Classifier.add(MaxPooling2D(pool_size=(2,2)))\n",
    "Classifier.add(Flatten())\n",
    "Classifier.add(Dense(256, activation='relu'))\n",
    "Classifier.add(Dense(6, activation='softmax'))\n",
    "\n",
    "Classifier.compile(optimizer='rmsprop',loss='categorical_crossentropy',metrics=['accuracy'])\n",
    "Classifier.summary()"
   ]
  },
  {
   "cell_type": "code",
   "execution_count": 5,
   "id": "2a52c70d",
   "metadata": {},
   "outputs": [],
   "source": [
    "from tensorflow.keras.preprocessing.image import ImageDataGenerator"
   ]
  },
  {
   "cell_type": "code",
   "execution_count": 6,
   "id": "c3ab796f",
   "metadata": {},
   "outputs": [],
   "source": [
    "train_datagen=ImageDataGenerator(rescale=1./255)"
   ]
  },
  {
   "cell_type": "code",
   "execution_count": 7,
   "id": "00d0078a",
   "metadata": {},
   "outputs": [],
   "source": [
    "test_datagen=ImageDataGenerator(rescale=1./255)"
   ]
  },
  {
   "cell_type": "code",
   "execution_count": 8,
   "id": "e1c04345",
   "metadata": {},
   "outputs": [
    {
     "name": "stdout",
     "output_type": "stream",
     "text": [
      "Found 13899 images belonging to 6 classes.\n"
     ]
    }
   ],
   "source": [
    "training_set=train_datagen.flow_from_directory('data/train',target_size=(300,300),batch_size=8,class_mode='categorical')"
   ]
  },
  {
   "cell_type": "code",
   "execution_count": 9,
   "id": "c5074ae6",
   "metadata": {},
   "outputs": [
    {
     "name": "stdout",
     "output_type": "stream",
     "text": [
      "Found 16454 images belonging to 6 classes.\n"
     ]
    }
   ],
   "source": [
    "test_set=test_datagen.flow_from_directory('data/test',target_size=(300,300),batch_size=8,class_mode='categorical')"
   ]
  },
  {
   "cell_type": "code",
   "execution_count": 10,
   "id": "e8b97bb4",
   "metadata": {},
   "outputs": [],
   "source": [
    "epochs = 5\n",
    "batch_size = 64"
   ]
  },
  {
   "cell_type": "code",
   "execution_count": 11,
   "id": "f71305e8",
   "metadata": {},
   "outputs": [],
   "source": [
    "mc = ModelCheckpoint('keras_model.h5', monitor = 'laccuracy', verbose=1, save_best_only = True)"
   ]
  },
  {
   "cell_type": "code",
   "execution_count": 12,
   "id": "c4e630c1",
   "metadata": {},
   "outputs": [
    {
     "name": "stdout",
     "output_type": "stream",
     "text": [
      "Epoch 1/5\n",
      "217/217 [==============================] - ETA: 0s - loss: 0.8040 - accuracy: 0.7224WARNING:tensorflow:Can save best model only with laccuracy available, skipping.\n",
      "217/217 [==============================] - 65s 297ms/step - loss: 0.8040 - accuracy: 0.7224 - val_loss: 0.6244 - val_accuracy: 0.8643\n",
      "Epoch 2/5\n",
      "217/217 [==============================] - ETA: 0s - loss: 0.2232 - accuracy: 0.9291WARNING:tensorflow:Can save best model only with laccuracy available, skipping.\n",
      "217/217 [==============================] - 61s 282ms/step - loss: 0.2232 - accuracy: 0.9291 - val_loss: 0.7164 - val_accuracy: 0.8497\n",
      "Epoch 3/5\n",
      "217/217 [==============================] - ETA: 0s - loss: 0.1515 - accuracy: 0.9493WARNING:tensorflow:Can save best model only with laccuracy available, skipping.\n",
      "217/217 [==============================] - 62s 287ms/step - loss: 0.1515 - accuracy: 0.9493 - val_loss: 0.9758 - val_accuracy: 0.8682\n",
      "Epoch 4/5\n",
      "217/217 [==============================] - ETA: 0s - loss: 0.1449 - accuracy: 0.9464WARNING:tensorflow:Can save best model only with laccuracy available, skipping.\n",
      "217/217 [==============================] - 66s 302ms/step - loss: 0.1449 - accuracy: 0.9464 - val_loss: 0.7358 - val_accuracy: 0.8570\n",
      "Epoch 5/5\n",
      "217/217 [==============================] - ETA: 0s - loss: 0.1457 - accuracy: 0.9441WARNING:tensorflow:Can save best model only with laccuracy available, skipping.\n",
      "217/217 [==============================] - 67s 311ms/step - loss: 0.1457 - accuracy: 0.9441 - val_loss: 0.9074 - val_accuracy: 0.8745\n"
     ]
    },
    {
     "data": {
      "text/plain": [
       "<keras.callbacks.History at 0x1c8f7be8d60>"
      ]
     },
     "execution_count": 12,
     "metadata": {},
     "output_type": "execute_result"
    }
   ],
   "source": [
    "Classifier.fit_generator( training_set, steps_per_epoch=training_set.samples // batch_size, \n",
    "           epochs=epochs, \n",
    "           validation_data=test_set,validation_steps=test_set.samples // batch_size, callbacks= [mc])"
   ]
  },
  {
   "cell_type": "code",
   "execution_count": null,
   "id": "db186365",
   "metadata": {},
   "outputs": [],
   "source": []
  }
 ],
 "metadata": {
  "kernelspec": {
   "display_name": "Python 3 (ipykernel)",
   "language": "python",
   "name": "python3"
  },
  "language_info": {
   "codemirror_mode": {
    "name": "ipython",
    "version": 3
   },
   "file_extension": ".py",
   "mimetype": "text/x-python",
   "name": "python",
   "nbconvert_exporter": "python",
   "pygments_lexer": "ipython3",
   "version": "3.9.15"
  }
 },
 "nbformat": 4,
 "nbformat_minor": 5
}
